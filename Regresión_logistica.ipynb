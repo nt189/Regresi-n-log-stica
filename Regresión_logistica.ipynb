{
  "nbformat": 4,
  "nbformat_minor": 0,
  "metadata": {
    "colab": {
      "provenance": [],
      "authorship_tag": "ABX9TyMSn2zRnu54WL/3tfHHVkE2",
      "include_colab_link": true
    },
    "kernelspec": {
      "name": "python3",
      "display_name": "Python 3"
    },
    "language_info": {
      "name": "python"
    }
  },
  "cells": [
    {
      "cell_type": "markdown",
      "metadata": {
        "id": "view-in-github",
        "colab_type": "text"
      },
      "source": [
        "<a href=\"https://colab.research.google.com/github/nt189/Regresi-n-log-stica/blob/main/Regresi%C3%B3n_logistica.ipynb\" target=\"_parent\"><img src=\"https://colab.research.google.com/assets/colab-badge.svg\" alt=\"Open In Colab\"/></a>"
      ]
    },
    {
      "cell_type": "code",
      "source": [
        "# Selecciona el pais\n",
        "# pais = 'mexico'\n",
        "# pais = 'california'\n",
        "pais = 'ottawa'"
      ],
      "metadata": {
        "id": "9Rxu42u-BEbQ"
      },
      "execution_count": 262,
      "outputs": []
    },
    {
      "cell_type": "markdown",
      "source": [
        "# **Carga de librerias y csv**"
      ],
      "metadata": {
        "id": "UDQ3-7hvC1Zd"
      }
    },
    {
      "cell_type": "code",
      "execution_count": 263,
      "metadata": {
        "id": "GKP6XJhz-28h"
      },
      "outputs": [],
      "source": [
        "#Cargamos librerias\n",
        "import pandas as pd\n",
        "import numpy as np\n",
        "import matplotlib.pyplot as plt\n",
        "import scipy.special as special\n",
        "from scipy.optimize import curve_fit\n",
        "import seaborn as sns\n",
        "from sklearn.metrics import r2_score\n",
        "from sklearn.model_selection import train_test_split\n",
        "from sklearn.preprocessing import StandardScaler\n",
        "\n",
        "# Definimos el algoritmo a utilizar\n",
        "from sklearn.linear_model import LogisticRegression\n",
        "\n",
        "from sklearn.metrics import confusion_matrix\n",
        "from sklearn.metrics import precision_score\n",
        "from sklearn.metrics import accuracy_score\n",
        "from sklearn.metrics import recall_score"
      ]
    },
    {
      "cell_type": "code",
      "source": [
        "df = pd.read_csv('listings_' + pais + '.csv')\n",
        "df.head(3)"
      ],
      "metadata": {
        "id": "Bf5xWIZv_qnO",
        "colab": {
          "base_uri": "https://localhost:8080/",
          "height": 0
        },
        "outputId": "8b8382ab-8804-43a8-914b-bf54570169f6"
      },
      "execution_count": 264,
      "outputs": [
        {
          "output_type": "execute_result",
          "data": {
            "text/plain": [
              "       id                          listing_url       scrape_id last_scraped  \\\n",
              "0  261065  https://www.airbnb.com/rooms/261065  20250311200222   2025-03-12   \n",
              "1  290033  https://www.airbnb.com/rooms/290033  20250311200222   2025-03-12   \n",
              "2  490182  https://www.airbnb.com/rooms/490182  20250311200222   2025-03-12   \n",
              "\n",
              "        source                               name  \\\n",
              "0  city scrape   Westboro Village Executive Suite   \n",
              "1  city scrape      Rural charm close to the city   \n",
              "2  city scrape  Basement Studio - Old Ottawa East   \n",
              "\n",
              "                                         description  \\\n",
              "0  A tastefully decorated and well equipped upper...   \n",
              "1  Close to Strathmere and other wedding venues. ...   \n",
              "2                                                NaN   \n",
              "\n",
              "                               neighborhood_overview  \\\n",
              "0  Westboro Village is a century-old community, a...   \n",
              "1  Most folks ask about Strathmere - we are less ...   \n",
              "2  The worlds longest skating rink, a UNESCO heri...   \n",
              "\n",
              "                                         picture_url  host_id  ...  \\\n",
              "0  https://a0.muscache.com/pictures/airflow/Hosti...  1369632  ...   \n",
              "1  https://a0.muscache.com/pictures/3016522/1e453...   415201  ...   \n",
              "2  https://a0.muscache.com/pictures/5a7e6363-5b91...  2401179  ...   \n",
              "\n",
              "  review_scores_communication review_scores_location review_scores_value  \\\n",
              "0                        4.94                   4.96                4.91   \n",
              "1                        4.92                   5.00                4.92   \n",
              "2                        5.00                   4.89                4.78   \n",
              "\n",
              "       license instant_bookable calculated_host_listings_count  \\\n",
              "0  STR-825-691                f                              1   \n",
              "1  STR-834-339                f                              1   \n",
              "2          NaN                f                              1   \n",
              "\n",
              "  calculated_host_listings_count_entire_homes  \\\n",
              "0                                           1   \n",
              "1                                           1   \n",
              "2                                           0   \n",
              "\n",
              "  calculated_host_listings_count_private_rooms  \\\n",
              "0                                            0   \n",
              "1                                            0   \n",
              "2                                            1   \n",
              "\n",
              "  calculated_host_listings_count_shared_rooms reviews_per_month  \n",
              "0                                           0              0.67  \n",
              "1                                           0              0.08  \n",
              "2                                           0              0.11  \n",
              "\n",
              "[3 rows x 79 columns]"
            ],
            "text/html": [
              "\n",
              "  <div id=\"df-16ee1d4f-a2f5-4c37-b026-e88f410b31a4\" class=\"colab-df-container\">\n",
              "    <div>\n",
              "<style scoped>\n",
              "    .dataframe tbody tr th:only-of-type {\n",
              "        vertical-align: middle;\n",
              "    }\n",
              "\n",
              "    .dataframe tbody tr th {\n",
              "        vertical-align: top;\n",
              "    }\n",
              "\n",
              "    .dataframe thead th {\n",
              "        text-align: right;\n",
              "    }\n",
              "</style>\n",
              "<table border=\"1\" class=\"dataframe\">\n",
              "  <thead>\n",
              "    <tr style=\"text-align: right;\">\n",
              "      <th></th>\n",
              "      <th>id</th>\n",
              "      <th>listing_url</th>\n",
              "      <th>scrape_id</th>\n",
              "      <th>last_scraped</th>\n",
              "      <th>source</th>\n",
              "      <th>name</th>\n",
              "      <th>description</th>\n",
              "      <th>neighborhood_overview</th>\n",
              "      <th>picture_url</th>\n",
              "      <th>host_id</th>\n",
              "      <th>...</th>\n",
              "      <th>review_scores_communication</th>\n",
              "      <th>review_scores_location</th>\n",
              "      <th>review_scores_value</th>\n",
              "      <th>license</th>\n",
              "      <th>instant_bookable</th>\n",
              "      <th>calculated_host_listings_count</th>\n",
              "      <th>calculated_host_listings_count_entire_homes</th>\n",
              "      <th>calculated_host_listings_count_private_rooms</th>\n",
              "      <th>calculated_host_listings_count_shared_rooms</th>\n",
              "      <th>reviews_per_month</th>\n",
              "    </tr>\n",
              "  </thead>\n",
              "  <tbody>\n",
              "    <tr>\n",
              "      <th>0</th>\n",
              "      <td>261065</td>\n",
              "      <td>https://www.airbnb.com/rooms/261065</td>\n",
              "      <td>20250311200222</td>\n",
              "      <td>2025-03-12</td>\n",
              "      <td>city scrape</td>\n",
              "      <td>Westboro Village Executive Suite</td>\n",
              "      <td>A tastefully decorated and well equipped upper...</td>\n",
              "      <td>Westboro Village is a century-old community, a...</td>\n",
              "      <td>https://a0.muscache.com/pictures/airflow/Hosti...</td>\n",
              "      <td>1369632</td>\n",
              "      <td>...</td>\n",
              "      <td>4.94</td>\n",
              "      <td>4.96</td>\n",
              "      <td>4.91</td>\n",
              "      <td>STR-825-691</td>\n",
              "      <td>f</td>\n",
              "      <td>1</td>\n",
              "      <td>1</td>\n",
              "      <td>0</td>\n",
              "      <td>0</td>\n",
              "      <td>0.67</td>\n",
              "    </tr>\n",
              "    <tr>\n",
              "      <th>1</th>\n",
              "      <td>290033</td>\n",
              "      <td>https://www.airbnb.com/rooms/290033</td>\n",
              "      <td>20250311200222</td>\n",
              "      <td>2025-03-12</td>\n",
              "      <td>city scrape</td>\n",
              "      <td>Rural charm close to the city</td>\n",
              "      <td>Close to Strathmere and other wedding venues. ...</td>\n",
              "      <td>Most folks ask about Strathmere - we are less ...</td>\n",
              "      <td>https://a0.muscache.com/pictures/3016522/1e453...</td>\n",
              "      <td>415201</td>\n",
              "      <td>...</td>\n",
              "      <td>4.92</td>\n",
              "      <td>5.00</td>\n",
              "      <td>4.92</td>\n",
              "      <td>STR-834-339</td>\n",
              "      <td>f</td>\n",
              "      <td>1</td>\n",
              "      <td>1</td>\n",
              "      <td>0</td>\n",
              "      <td>0</td>\n",
              "      <td>0.08</td>\n",
              "    </tr>\n",
              "    <tr>\n",
              "      <th>2</th>\n",
              "      <td>490182</td>\n",
              "      <td>https://www.airbnb.com/rooms/490182</td>\n",
              "      <td>20250311200222</td>\n",
              "      <td>2025-03-12</td>\n",
              "      <td>city scrape</td>\n",
              "      <td>Basement Studio - Old Ottawa East</td>\n",
              "      <td>NaN</td>\n",
              "      <td>The worlds longest skating rink, a UNESCO heri...</td>\n",
              "      <td>https://a0.muscache.com/pictures/5a7e6363-5b91...</td>\n",
              "      <td>2401179</td>\n",
              "      <td>...</td>\n",
              "      <td>5.00</td>\n",
              "      <td>4.89</td>\n",
              "      <td>4.78</td>\n",
              "      <td>NaN</td>\n",
              "      <td>f</td>\n",
              "      <td>1</td>\n",
              "      <td>0</td>\n",
              "      <td>1</td>\n",
              "      <td>0</td>\n",
              "      <td>0.11</td>\n",
              "    </tr>\n",
              "  </tbody>\n",
              "</table>\n",
              "<p>3 rows × 79 columns</p>\n",
              "</div>\n",
              "    <div class=\"colab-df-buttons\">\n",
              "\n",
              "  <div class=\"colab-df-container\">\n",
              "    <button class=\"colab-df-convert\" onclick=\"convertToInteractive('df-16ee1d4f-a2f5-4c37-b026-e88f410b31a4')\"\n",
              "            title=\"Convert this dataframe to an interactive table.\"\n",
              "            style=\"display:none;\">\n",
              "\n",
              "  <svg xmlns=\"http://www.w3.org/2000/svg\" height=\"24px\" viewBox=\"0 -960 960 960\">\n",
              "    <path d=\"M120-120v-720h720v720H120Zm60-500h600v-160H180v160Zm220 220h160v-160H400v160Zm0 220h160v-160H400v160ZM180-400h160v-160H180v160Zm440 0h160v-160H620v160ZM180-180h160v-160H180v160Zm440 0h160v-160H620v160Z\"/>\n",
              "  </svg>\n",
              "    </button>\n",
              "\n",
              "  <style>\n",
              "    .colab-df-container {\n",
              "      display:flex;\n",
              "      gap: 12px;\n",
              "    }\n",
              "\n",
              "    .colab-df-convert {\n",
              "      background-color: #E8F0FE;\n",
              "      border: none;\n",
              "      border-radius: 50%;\n",
              "      cursor: pointer;\n",
              "      display: none;\n",
              "      fill: #1967D2;\n",
              "      height: 32px;\n",
              "      padding: 0 0 0 0;\n",
              "      width: 32px;\n",
              "    }\n",
              "\n",
              "    .colab-df-convert:hover {\n",
              "      background-color: #E2EBFA;\n",
              "      box-shadow: 0px 1px 2px rgba(60, 64, 67, 0.3), 0px 1px 3px 1px rgba(60, 64, 67, 0.15);\n",
              "      fill: #174EA6;\n",
              "    }\n",
              "\n",
              "    .colab-df-buttons div {\n",
              "      margin-bottom: 4px;\n",
              "    }\n",
              "\n",
              "    [theme=dark] .colab-df-convert {\n",
              "      background-color: #3B4455;\n",
              "      fill: #D2E3FC;\n",
              "    }\n",
              "\n",
              "    [theme=dark] .colab-df-convert:hover {\n",
              "      background-color: #434B5C;\n",
              "      box-shadow: 0px 1px 3px 1px rgba(0, 0, 0, 0.15);\n",
              "      filter: drop-shadow(0px 1px 2px rgba(0, 0, 0, 0.3));\n",
              "      fill: #FFFFFF;\n",
              "    }\n",
              "  </style>\n",
              "\n",
              "    <script>\n",
              "      const buttonEl =\n",
              "        document.querySelector('#df-16ee1d4f-a2f5-4c37-b026-e88f410b31a4 button.colab-df-convert');\n",
              "      buttonEl.style.display =\n",
              "        google.colab.kernel.accessAllowed ? 'block' : 'none';\n",
              "\n",
              "      async function convertToInteractive(key) {\n",
              "        const element = document.querySelector('#df-16ee1d4f-a2f5-4c37-b026-e88f410b31a4');\n",
              "        const dataTable =\n",
              "          await google.colab.kernel.invokeFunction('convertToInteractive',\n",
              "                                                    [key], {});\n",
              "        if (!dataTable) return;\n",
              "\n",
              "        const docLinkHtml = 'Like what you see? Visit the ' +\n",
              "          '<a target=\"_blank\" href=https://colab.research.google.com/notebooks/data_table.ipynb>data table notebook</a>'\n",
              "          + ' to learn more about interactive tables.';\n",
              "        element.innerHTML = '';\n",
              "        dataTable['output_type'] = 'display_data';\n",
              "        await google.colab.output.renderOutput(dataTable, element);\n",
              "        const docLink = document.createElement('div');\n",
              "        docLink.innerHTML = docLinkHtml;\n",
              "        element.appendChild(docLink);\n",
              "      }\n",
              "    </script>\n",
              "  </div>\n",
              "\n",
              "\n",
              "<div id=\"df-3f6f3309-4742-48e4-9a9a-2803d8042b27\">\n",
              "  <button class=\"colab-df-quickchart\" onclick=\"quickchart('df-3f6f3309-4742-48e4-9a9a-2803d8042b27')\"\n",
              "            title=\"Suggest charts\"\n",
              "            style=\"display:none;\">\n",
              "\n",
              "<svg xmlns=\"http://www.w3.org/2000/svg\" height=\"24px\"viewBox=\"0 0 24 24\"\n",
              "     width=\"24px\">\n",
              "    <g>\n",
              "        <path d=\"M19 3H5c-1.1 0-2 .9-2 2v14c0 1.1.9 2 2 2h14c1.1 0 2-.9 2-2V5c0-1.1-.9-2-2-2zM9 17H7v-7h2v7zm4 0h-2V7h2v10zm4 0h-2v-4h2v4z\"/>\n",
              "    </g>\n",
              "</svg>\n",
              "  </button>\n",
              "\n",
              "<style>\n",
              "  .colab-df-quickchart {\n",
              "      --bg-color: #E8F0FE;\n",
              "      --fill-color: #1967D2;\n",
              "      --hover-bg-color: #E2EBFA;\n",
              "      --hover-fill-color: #174EA6;\n",
              "      --disabled-fill-color: #AAA;\n",
              "      --disabled-bg-color: #DDD;\n",
              "  }\n",
              "\n",
              "  [theme=dark] .colab-df-quickchart {\n",
              "      --bg-color: #3B4455;\n",
              "      --fill-color: #D2E3FC;\n",
              "      --hover-bg-color: #434B5C;\n",
              "      --hover-fill-color: #FFFFFF;\n",
              "      --disabled-bg-color: #3B4455;\n",
              "      --disabled-fill-color: #666;\n",
              "  }\n",
              "\n",
              "  .colab-df-quickchart {\n",
              "    background-color: var(--bg-color);\n",
              "    border: none;\n",
              "    border-radius: 50%;\n",
              "    cursor: pointer;\n",
              "    display: none;\n",
              "    fill: var(--fill-color);\n",
              "    height: 32px;\n",
              "    padding: 0;\n",
              "    width: 32px;\n",
              "  }\n",
              "\n",
              "  .colab-df-quickchart:hover {\n",
              "    background-color: var(--hover-bg-color);\n",
              "    box-shadow: 0 1px 2px rgba(60, 64, 67, 0.3), 0 1px 3px 1px rgba(60, 64, 67, 0.15);\n",
              "    fill: var(--button-hover-fill-color);\n",
              "  }\n",
              "\n",
              "  .colab-df-quickchart-complete:disabled,\n",
              "  .colab-df-quickchart-complete:disabled:hover {\n",
              "    background-color: var(--disabled-bg-color);\n",
              "    fill: var(--disabled-fill-color);\n",
              "    box-shadow: none;\n",
              "  }\n",
              "\n",
              "  .colab-df-spinner {\n",
              "    border: 2px solid var(--fill-color);\n",
              "    border-color: transparent;\n",
              "    border-bottom-color: var(--fill-color);\n",
              "    animation:\n",
              "      spin 1s steps(1) infinite;\n",
              "  }\n",
              "\n",
              "  @keyframes spin {\n",
              "    0% {\n",
              "      border-color: transparent;\n",
              "      border-bottom-color: var(--fill-color);\n",
              "      border-left-color: var(--fill-color);\n",
              "    }\n",
              "    20% {\n",
              "      border-color: transparent;\n",
              "      border-left-color: var(--fill-color);\n",
              "      border-top-color: var(--fill-color);\n",
              "    }\n",
              "    30% {\n",
              "      border-color: transparent;\n",
              "      border-left-color: var(--fill-color);\n",
              "      border-top-color: var(--fill-color);\n",
              "      border-right-color: var(--fill-color);\n",
              "    }\n",
              "    40% {\n",
              "      border-color: transparent;\n",
              "      border-right-color: var(--fill-color);\n",
              "      border-top-color: var(--fill-color);\n",
              "    }\n",
              "    60% {\n",
              "      border-color: transparent;\n",
              "      border-right-color: var(--fill-color);\n",
              "    }\n",
              "    80% {\n",
              "      border-color: transparent;\n",
              "      border-right-color: var(--fill-color);\n",
              "      border-bottom-color: var(--fill-color);\n",
              "    }\n",
              "    90% {\n",
              "      border-color: transparent;\n",
              "      border-bottom-color: var(--fill-color);\n",
              "    }\n",
              "  }\n",
              "</style>\n",
              "\n",
              "  <script>\n",
              "    async function quickchart(key) {\n",
              "      const quickchartButtonEl =\n",
              "        document.querySelector('#' + key + ' button');\n",
              "      quickchartButtonEl.disabled = true;  // To prevent multiple clicks.\n",
              "      quickchartButtonEl.classList.add('colab-df-spinner');\n",
              "      try {\n",
              "        const charts = await google.colab.kernel.invokeFunction(\n",
              "            'suggestCharts', [key], {});\n",
              "      } catch (error) {\n",
              "        console.error('Error during call to suggestCharts:', error);\n",
              "      }\n",
              "      quickchartButtonEl.classList.remove('colab-df-spinner');\n",
              "      quickchartButtonEl.classList.add('colab-df-quickchart-complete');\n",
              "    }\n",
              "    (() => {\n",
              "      let quickchartButtonEl =\n",
              "        document.querySelector('#df-3f6f3309-4742-48e4-9a9a-2803d8042b27 button');\n",
              "      quickchartButtonEl.style.display =\n",
              "        google.colab.kernel.accessAllowed ? 'block' : 'none';\n",
              "    })();\n",
              "  </script>\n",
              "</div>\n",
              "\n",
              "    </div>\n",
              "  </div>\n"
            ],
            "application/vnd.google.colaboratory.intrinsic+json": {
              "type": "dataframe",
              "variable_name": "df"
            }
          },
          "metadata": {},
          "execution_count": 264
        }
      ]
    },
    {
      "cell_type": "code",
      "source": [
        "#Rellenamos nulos\n",
        "df = df.fillna(method='bfill')\n",
        "df = df.fillna(method='ffill')"
      ],
      "metadata": {
        "id": "2NAJa5cNAJts",
        "colab": {
          "base_uri": "https://localhost:8080/"
        },
        "outputId": "856bb9dc-b096-4fbc-d918-bb2f808af604"
      },
      "execution_count": 265,
      "outputs": [
        {
          "output_type": "stream",
          "name": "stderr",
          "text": [
            "<ipython-input-265-00d3f016ac00>:2: FutureWarning: DataFrame.fillna with 'method' is deprecated and will raise in a future version. Use obj.ffill() or obj.bfill() instead.\n",
            "  df = df.fillna(method='bfill')\n",
            "<ipython-input-265-00d3f016ac00>:3: FutureWarning: DataFrame.fillna with 'method' is deprecated and will raise in a future version. Use obj.ffill() or obj.bfill() instead.\n",
            "  df = df.fillna(method='ffill')\n"
          ]
        }
      ]
    },
    {
      "cell_type": "code",
      "source": [
        "df.isnull().sum().to_frame(name='Cantidad de Nulos')"
      ],
      "metadata": {
        "colab": {
          "base_uri": "https://localhost:8080/",
          "height": 0
        },
        "id": "Hfc2N2HEmflM",
        "outputId": "eeac2ba2-954b-4111-c716-9e5bc44746e9"
      },
      "execution_count": 266,
      "outputs": [
        {
          "output_type": "execute_result",
          "data": {
            "text/plain": [
              "                                              Cantidad de Nulos\n",
              "id                                                            0\n",
              "listing_url                                                   0\n",
              "scrape_id                                                     0\n",
              "last_scraped                                                  0\n",
              "source                                                        0\n",
              "...                                                         ...\n",
              "calculated_host_listings_count                                0\n",
              "calculated_host_listings_count_entire_homes                   0\n",
              "calculated_host_listings_count_private_rooms                  0\n",
              "calculated_host_listings_count_shared_rooms                   0\n",
              "reviews_per_month                                             0\n",
              "\n",
              "[79 rows x 1 columns]"
            ],
            "text/html": [
              "\n",
              "  <div id=\"df-323953df-6882-499e-ae6b-1f6303f5aa0b\" class=\"colab-df-container\">\n",
              "    <div>\n",
              "<style scoped>\n",
              "    .dataframe tbody tr th:only-of-type {\n",
              "        vertical-align: middle;\n",
              "    }\n",
              "\n",
              "    .dataframe tbody tr th {\n",
              "        vertical-align: top;\n",
              "    }\n",
              "\n",
              "    .dataframe thead th {\n",
              "        text-align: right;\n",
              "    }\n",
              "</style>\n",
              "<table border=\"1\" class=\"dataframe\">\n",
              "  <thead>\n",
              "    <tr style=\"text-align: right;\">\n",
              "      <th></th>\n",
              "      <th>Cantidad de Nulos</th>\n",
              "    </tr>\n",
              "  </thead>\n",
              "  <tbody>\n",
              "    <tr>\n",
              "      <th>id</th>\n",
              "      <td>0</td>\n",
              "    </tr>\n",
              "    <tr>\n",
              "      <th>listing_url</th>\n",
              "      <td>0</td>\n",
              "    </tr>\n",
              "    <tr>\n",
              "      <th>scrape_id</th>\n",
              "      <td>0</td>\n",
              "    </tr>\n",
              "    <tr>\n",
              "      <th>last_scraped</th>\n",
              "      <td>0</td>\n",
              "    </tr>\n",
              "    <tr>\n",
              "      <th>source</th>\n",
              "      <td>0</td>\n",
              "    </tr>\n",
              "    <tr>\n",
              "      <th>...</th>\n",
              "      <td>...</td>\n",
              "    </tr>\n",
              "    <tr>\n",
              "      <th>calculated_host_listings_count</th>\n",
              "      <td>0</td>\n",
              "    </tr>\n",
              "    <tr>\n",
              "      <th>calculated_host_listings_count_entire_homes</th>\n",
              "      <td>0</td>\n",
              "    </tr>\n",
              "    <tr>\n",
              "      <th>calculated_host_listings_count_private_rooms</th>\n",
              "      <td>0</td>\n",
              "    </tr>\n",
              "    <tr>\n",
              "      <th>calculated_host_listings_count_shared_rooms</th>\n",
              "      <td>0</td>\n",
              "    </tr>\n",
              "    <tr>\n",
              "      <th>reviews_per_month</th>\n",
              "      <td>0</td>\n",
              "    </tr>\n",
              "  </tbody>\n",
              "</table>\n",
              "<p>79 rows × 1 columns</p>\n",
              "</div>\n",
              "    <div class=\"colab-df-buttons\">\n",
              "\n",
              "  <div class=\"colab-df-container\">\n",
              "    <button class=\"colab-df-convert\" onclick=\"convertToInteractive('df-323953df-6882-499e-ae6b-1f6303f5aa0b')\"\n",
              "            title=\"Convert this dataframe to an interactive table.\"\n",
              "            style=\"display:none;\">\n",
              "\n",
              "  <svg xmlns=\"http://www.w3.org/2000/svg\" height=\"24px\" viewBox=\"0 -960 960 960\">\n",
              "    <path d=\"M120-120v-720h720v720H120Zm60-500h600v-160H180v160Zm220 220h160v-160H400v160Zm0 220h160v-160H400v160ZM180-400h160v-160H180v160Zm440 0h160v-160H620v160ZM180-180h160v-160H180v160Zm440 0h160v-160H620v160Z\"/>\n",
              "  </svg>\n",
              "    </button>\n",
              "\n",
              "  <style>\n",
              "    .colab-df-container {\n",
              "      display:flex;\n",
              "      gap: 12px;\n",
              "    }\n",
              "\n",
              "    .colab-df-convert {\n",
              "      background-color: #E8F0FE;\n",
              "      border: none;\n",
              "      border-radius: 50%;\n",
              "      cursor: pointer;\n",
              "      display: none;\n",
              "      fill: #1967D2;\n",
              "      height: 32px;\n",
              "      padding: 0 0 0 0;\n",
              "      width: 32px;\n",
              "    }\n",
              "\n",
              "    .colab-df-convert:hover {\n",
              "      background-color: #E2EBFA;\n",
              "      box-shadow: 0px 1px 2px rgba(60, 64, 67, 0.3), 0px 1px 3px 1px rgba(60, 64, 67, 0.15);\n",
              "      fill: #174EA6;\n",
              "    }\n",
              "\n",
              "    .colab-df-buttons div {\n",
              "      margin-bottom: 4px;\n",
              "    }\n",
              "\n",
              "    [theme=dark] .colab-df-convert {\n",
              "      background-color: #3B4455;\n",
              "      fill: #D2E3FC;\n",
              "    }\n",
              "\n",
              "    [theme=dark] .colab-df-convert:hover {\n",
              "      background-color: #434B5C;\n",
              "      box-shadow: 0px 1px 3px 1px rgba(0, 0, 0, 0.15);\n",
              "      filter: drop-shadow(0px 1px 2px rgba(0, 0, 0, 0.3));\n",
              "      fill: #FFFFFF;\n",
              "    }\n",
              "  </style>\n",
              "\n",
              "    <script>\n",
              "      const buttonEl =\n",
              "        document.querySelector('#df-323953df-6882-499e-ae6b-1f6303f5aa0b button.colab-df-convert');\n",
              "      buttonEl.style.display =\n",
              "        google.colab.kernel.accessAllowed ? 'block' : 'none';\n",
              "\n",
              "      async function convertToInteractive(key) {\n",
              "        const element = document.querySelector('#df-323953df-6882-499e-ae6b-1f6303f5aa0b');\n",
              "        const dataTable =\n",
              "          await google.colab.kernel.invokeFunction('convertToInteractive',\n",
              "                                                    [key], {});\n",
              "        if (!dataTable) return;\n",
              "\n",
              "        const docLinkHtml = 'Like what you see? Visit the ' +\n",
              "          '<a target=\"_blank\" href=https://colab.research.google.com/notebooks/data_table.ipynb>data table notebook</a>'\n",
              "          + ' to learn more about interactive tables.';\n",
              "        element.innerHTML = '';\n",
              "        dataTable['output_type'] = 'display_data';\n",
              "        await google.colab.output.renderOutput(dataTable, element);\n",
              "        const docLink = document.createElement('div');\n",
              "        docLink.innerHTML = docLinkHtml;\n",
              "        element.appendChild(docLink);\n",
              "      }\n",
              "    </script>\n",
              "  </div>\n",
              "\n",
              "\n",
              "<div id=\"df-cba02483-178b-40f3-a48e-b22cf0c6f6be\">\n",
              "  <button class=\"colab-df-quickchart\" onclick=\"quickchart('df-cba02483-178b-40f3-a48e-b22cf0c6f6be')\"\n",
              "            title=\"Suggest charts\"\n",
              "            style=\"display:none;\">\n",
              "\n",
              "<svg xmlns=\"http://www.w3.org/2000/svg\" height=\"24px\"viewBox=\"0 0 24 24\"\n",
              "     width=\"24px\">\n",
              "    <g>\n",
              "        <path d=\"M19 3H5c-1.1 0-2 .9-2 2v14c0 1.1.9 2 2 2h14c1.1 0 2-.9 2-2V5c0-1.1-.9-2-2-2zM9 17H7v-7h2v7zm4 0h-2V7h2v10zm4 0h-2v-4h2v4z\"/>\n",
              "    </g>\n",
              "</svg>\n",
              "  </button>\n",
              "\n",
              "<style>\n",
              "  .colab-df-quickchart {\n",
              "      --bg-color: #E8F0FE;\n",
              "      --fill-color: #1967D2;\n",
              "      --hover-bg-color: #E2EBFA;\n",
              "      --hover-fill-color: #174EA6;\n",
              "      --disabled-fill-color: #AAA;\n",
              "      --disabled-bg-color: #DDD;\n",
              "  }\n",
              "\n",
              "  [theme=dark] .colab-df-quickchart {\n",
              "      --bg-color: #3B4455;\n",
              "      --fill-color: #D2E3FC;\n",
              "      --hover-bg-color: #434B5C;\n",
              "      --hover-fill-color: #FFFFFF;\n",
              "      --disabled-bg-color: #3B4455;\n",
              "      --disabled-fill-color: #666;\n",
              "  }\n",
              "\n",
              "  .colab-df-quickchart {\n",
              "    background-color: var(--bg-color);\n",
              "    border: none;\n",
              "    border-radius: 50%;\n",
              "    cursor: pointer;\n",
              "    display: none;\n",
              "    fill: var(--fill-color);\n",
              "    height: 32px;\n",
              "    padding: 0;\n",
              "    width: 32px;\n",
              "  }\n",
              "\n",
              "  .colab-df-quickchart:hover {\n",
              "    background-color: var(--hover-bg-color);\n",
              "    box-shadow: 0 1px 2px rgba(60, 64, 67, 0.3), 0 1px 3px 1px rgba(60, 64, 67, 0.15);\n",
              "    fill: var(--button-hover-fill-color);\n",
              "  }\n",
              "\n",
              "  .colab-df-quickchart-complete:disabled,\n",
              "  .colab-df-quickchart-complete:disabled:hover {\n",
              "    background-color: var(--disabled-bg-color);\n",
              "    fill: var(--disabled-fill-color);\n",
              "    box-shadow: none;\n",
              "  }\n",
              "\n",
              "  .colab-df-spinner {\n",
              "    border: 2px solid var(--fill-color);\n",
              "    border-color: transparent;\n",
              "    border-bottom-color: var(--fill-color);\n",
              "    animation:\n",
              "      spin 1s steps(1) infinite;\n",
              "  }\n",
              "\n",
              "  @keyframes spin {\n",
              "    0% {\n",
              "      border-color: transparent;\n",
              "      border-bottom-color: var(--fill-color);\n",
              "      border-left-color: var(--fill-color);\n",
              "    }\n",
              "    20% {\n",
              "      border-color: transparent;\n",
              "      border-left-color: var(--fill-color);\n",
              "      border-top-color: var(--fill-color);\n",
              "    }\n",
              "    30% {\n",
              "      border-color: transparent;\n",
              "      border-left-color: var(--fill-color);\n",
              "      border-top-color: var(--fill-color);\n",
              "      border-right-color: var(--fill-color);\n",
              "    }\n",
              "    40% {\n",
              "      border-color: transparent;\n",
              "      border-right-color: var(--fill-color);\n",
              "      border-top-color: var(--fill-color);\n",
              "    }\n",
              "    60% {\n",
              "      border-color: transparent;\n",
              "      border-right-color: var(--fill-color);\n",
              "    }\n",
              "    80% {\n",
              "      border-color: transparent;\n",
              "      border-right-color: var(--fill-color);\n",
              "      border-bottom-color: var(--fill-color);\n",
              "    }\n",
              "    90% {\n",
              "      border-color: transparent;\n",
              "      border-bottom-color: var(--fill-color);\n",
              "    }\n",
              "  }\n",
              "</style>\n",
              "\n",
              "  <script>\n",
              "    async function quickchart(key) {\n",
              "      const quickchartButtonEl =\n",
              "        document.querySelector('#' + key + ' button');\n",
              "      quickchartButtonEl.disabled = true;  // To prevent multiple clicks.\n",
              "      quickchartButtonEl.classList.add('colab-df-spinner');\n",
              "      try {\n",
              "        const charts = await google.colab.kernel.invokeFunction(\n",
              "            'suggestCharts', [key], {});\n",
              "      } catch (error) {\n",
              "        console.error('Error during call to suggestCharts:', error);\n",
              "      }\n",
              "      quickchartButtonEl.classList.remove('colab-df-spinner');\n",
              "      quickchartButtonEl.classList.add('colab-df-quickchart-complete');\n",
              "    }\n",
              "    (() => {\n",
              "      let quickchartButtonEl =\n",
              "        document.querySelector('#df-cba02483-178b-40f3-a48e-b22cf0c6f6be button');\n",
              "      quickchartButtonEl.style.display =\n",
              "        google.colab.kernel.accessAllowed ? 'block' : 'none';\n",
              "    })();\n",
              "  </script>\n",
              "</div>\n",
              "\n",
              "    </div>\n",
              "  </div>\n"
            ],
            "application/vnd.google.colaboratory.intrinsic+json": {
              "type": "dataframe",
              "summary": "{\n  \"name\": \"df\",\n  \"rows\": 79,\n  \"fields\": [\n    {\n      \"column\": \"Cantidad de Nulos\",\n      \"properties\": {\n        \"dtype\": \"number\",\n        \"std\": 448,\n        \"min\": 0,\n        \"max\": 2836,\n        \"num_unique_values\": 2,\n        \"samples\": [\n          2836,\n          0\n        ],\n        \"semantic_type\": \"\",\n        \"description\": \"\"\n      }\n    }\n  ]\n}"
            }
          },
          "metadata": {},
          "execution_count": 266
        }
      ]
    },
    {
      "cell_type": "code",
      "source": [
        "# Lista de columnas a limpiar\n",
        "columnas_a_limpiar = [\"price\", \"host_response_rate\", \"host_acceptance_rate\"]\n",
        "\n",
        "# Función para limpiar los valores\n",
        "def limpiar_valor(valor):\n",
        "    if isinstance(valor, str):  # Verificar si es un string\n",
        "        return float(valor.replace(\"$\", \"\").replace(\"%\", \"\").replace(\",\", \"\"))\n",
        "    return valor\n",
        "\n",
        "# Aplicar limpieza a cada columna\n",
        "for col in columnas_a_limpiar:\n",
        "    df[col] = df[col].apply(limpiar_valor)"
      ],
      "metadata": {
        "id": "w06YcWXneX42"
      },
      "execution_count": 267,
      "outputs": []
    },
    {
      "cell_type": "markdown",
      "source": [
        "# **Regrecion logistica**"
      ],
      "metadata": {
        "id": "PJfKjCxGCfGb"
      }
    },
    {
      "cell_type": "code",
      "source": [
        "# Vars_indep = X    |    Var_dep = y (variable dicotomica)\n",
        "def regresion_logistica(X, y, tbl_info=False):\n",
        "  #Dividimos el conjunto de datos en la parte de entrenamiento y prueba:\n",
        "  X_train, X_test, y_train, y_test = train_test_split(X, y, test_size=0.3, random_state=None)\n",
        "\n",
        "  # Se escalan todos los datos\n",
        "  escalar = StandardScaler()\n",
        "\n",
        "  # Para realizar el escalamiento de las variables \"X\" tanto de entrenamiento como de prueba, utilizaremos\n",
        "  X_train = escalar.fit_transform(X_train)\n",
        "  X_test = escalar.transform(X_test)\n",
        "\n",
        "  algoritmo = LogisticRegression()\n",
        "\n",
        "  # entrenamos el modelo\n",
        "  algoritmo.fit(X_train, y_train)\n",
        "\n",
        "  # Creo un diccionario\n",
        "  resultados = {}\n",
        "\n",
        "  # Realizamos una prediccion\n",
        "  y_pred = algoritmo.predict(X_test)\n",
        "  # y_pred\n",
        "\n",
        "  # Verifico la matriz de Confusion\n",
        "  matriz = confusion_matrix(y_test, y_pred)\n",
        "  # print('Matriz de Confusion:')\n",
        "  # print(matriz)\n",
        "\n",
        "  # Calculo la precicion del modelo\n",
        "  precision = precision_score(y_test, y_pred, average=\"binary\", pos_label=1)\n",
        "  # print('Precision del modelo:')\n",
        "  # print(precision)\n",
        "\n",
        "  # Calculo de la exactitud del modelo\n",
        "  exactitud = accuracy_score(y_test, y_pred)\n",
        "  # print('Exactitud del modelo:')\n",
        "  # print(exactitud)\n",
        "\n",
        "  # Calculamos la sensibilidad del modelo\n",
        "  sensibilidad = recall_score(y_test, y_pred, average=\"binary\", pos_label=1)\n",
        "  # print('Sensibilidad del modelo:')\n",
        "  # print(sensibilidad)\n",
        "\n",
        "  if tbl_info:\n",
        "    tbl_info = pd.DataFrame({\n",
        "            'Variable Dependiente': [y.name],\n",
        "            'Variables Independientes': [\", \".join(X.columns)],\n",
        "            'Precisión': [precision],\n",
        "            'Exactitud': [exactitud],\n",
        "            'Sensibilidad': [sensibilidad],\n",
        "            'Matriz de Confusión': [matriz.tolist()]\n",
        "        })\n",
        "    return tbl_info\n",
        "  else:\n",
        "    resultados['y_pred'] = y_pred\n",
        "    resultados['matriz'] = matriz\n",
        "    resultados['precision'] = precision\n",
        "    resultados['exactitud'] = exactitud\n",
        "    resultados['sensibilidad'] = sensibilidad\n",
        "\n",
        "    return resultados\n",
        "\n"
      ],
      "metadata": {
        "id": "G0LERmc-Aag-"
      },
      "execution_count": 268,
      "outputs": []
    },
    {
      "cell_type": "markdown",
      "source": [
        "# **Convertir a dicotomicas**"
      ],
      "metadata": {
        "id": "y9Wc1RDs6HQP"
      }
    },
    {
      "cell_type": "code",
      "source": [
        "import numpy as np\n",
        "\n",
        "x = [\n",
        "    'host_is_superhost',\n",
        "    'host_identity_verified',\n",
        "    'has_availability',\n",
        "    'instant_bookable'\n",
        "]\n",
        "\n",
        "# Convertir 't' → 1 y 'f' → 0 usando map\n",
        "for i in x:\n",
        "    df[i] = df[i].map({'t': 1, 'f': 0})  # Convertir a 0 y 1\n",
        "\n",
        "    unique_vals, counts = np.unique(df[i], return_counts=True)\n",
        "\n",
        "    if len(unique_vals) == 1:  # Si solo tiene un único valor (todo 0s o todo 1s)\n",
        "        total_rows = len(df)\n",
        "        min_count = int(0.03 * total_rows)  # 3% del total\n",
        "\n",
        "        if unique_vals[0] == 1:  # Si solo hay 1s, agregar ceros\n",
        "            zero_indices = np.random.choice(df.index, size=min_count, replace=False)\n",
        "            df.loc[zero_indices, i] = 0\n",
        "            print(f\"🔄 Ajustado '{i}': Se añadieron {min_count} ceros.\")\n",
        "        else:  # Si solo hay 0s, agregar unos\n",
        "            one_indices = np.random.choice(df.index, size=min_count, replace=False)\n",
        "            df.loc[one_indices, i] = 1\n",
        "            print(f\"🔄 Ajustado '{i}': Se añadieron {min_count} unos.\")\n",
        "\n",
        "    else:\n",
        "        zero_count = (df[i] == 0).sum()\n",
        "        one_count = (df[i] == 1).sum()\n",
        "        total_rows = len(df)\n",
        "\n",
        "        # Asegurar que hay al menos 3% de cada clase\n",
        "        min_count = int(0.03 * total_rows)  # 3% del total\n",
        "\n",
        "        if zero_count < min_count:\n",
        "            zero_indices = np.random.choice(df[df[i] == 1].index, size=min_count - zero_count, replace=False)\n",
        "            df.loc[zero_indices, i] = 0\n",
        "            print(f\"🔄 Ajustado '{i}': Se añadieron {min_count - zero_count} ceros.\")\n",
        "\n",
        "        if one_count < min_count:\n",
        "            one_indices = np.random.choice(df[df[i] == 0].index, size=min_count - one_count, replace=False)\n",
        "            df.loc[one_indices, i] = 1\n",
        "            print(f\"🔄 Ajustado '{i}': Se añadieron {min_count - one_count} unos.\")\n",
        "\n",
        "    print(f\"{i}: {np.unique(df[i], return_counts=True)}\")\n"
      ],
      "metadata": {
        "colab": {
          "base_uri": "https://localhost:8080/"
        },
        "id": "kRtsSDblm_9u",
        "outputId": "40c131b0-ab8a-49b7-d7a1-94be40348e93"
      },
      "execution_count": 269,
      "outputs": [
        {
          "output_type": "stream",
          "name": "stdout",
          "text": [
            "host_is_superhost: (array([0, 1]), array([1601, 1235]))\n",
            "host_identity_verified: (array([0, 1]), array([ 252, 2584]))\n",
            "🔄 Ajustado 'has_availability': Se añadieron 85 ceros.\n",
            "has_availability: (array([0, 1]), array([  85, 2751]))\n",
            "instant_bookable: (array([0, 1]), array([2257,  579]))\n"
          ]
        }
      ]
    },
    {
      "cell_type": "code",
      "source": [
        "print(np.unique(df['bathrooms']))\n",
        "print(np.unique(df['bedrooms']))\n",
        "print(np.unique(df['host_response_time']))\n",
        "print(np.unique(df['room_type']))\n",
        "print(np.unique(df['accommodates']))"
      ],
      "metadata": {
        "colab": {
          "base_uri": "https://localhost:8080/"
        },
        "id": "xKHcc8Gl5QtI",
        "outputId": "229a3410-ba12-42be-959f-3c196f91086f"
      },
      "execution_count": 270,
      "outputs": [
        {
          "output_type": "stream",
          "name": "stdout",
          "text": [
            "[0.  0.5 1.  1.5 2.  2.5 3.  3.5 4.  4.5 5.  6.  7.5]\n",
            "[ 0.  1.  2.  3.  4.  5.  6.  7.  8. 10.]\n",
            "['a few days or more' 'within a day' 'within a few hours' 'within an hour']\n",
            "['Entire home/apt' 'Hotel room' 'Private room' 'Shared room']\n",
            "[ 1  2  3  4  5  6  7  8  9 10 11 12 14 15 16]\n"
          ]
        }
      ]
    },
    {
      "cell_type": "code",
      "source": [
        "# Tiene 0 baños\n",
        "df['bathrooms'] = np.where(df['bathrooms'] == 0, '0 baños', 'No 0 baños')\n",
        "\n",
        "df['bathrooms'] = df['bathrooms'].replace(['0 baños'], 1)\n",
        "df['bathrooms'] = df['bathrooms'].replace(['No 0 baños'], 0)\n",
        "\n",
        "print(df['bathrooms'].unique())"
      ],
      "metadata": {
        "colab": {
          "base_uri": "https://localhost:8080/"
        },
        "id": "mAzMDuTz6xgc",
        "outputId": "c5193c22-7119-405a-bb2b-8fe84fddc3bd"
      },
      "execution_count": 271,
      "outputs": [
        {
          "output_type": "stream",
          "name": "stdout",
          "text": [
            "[0 1]\n"
          ]
        },
        {
          "output_type": "stream",
          "name": "stderr",
          "text": [
            "<ipython-input-271-260f65eb91f3>:5: FutureWarning: Downcasting behavior in `replace` is deprecated and will be removed in a future version. To retain the old behavior, explicitly call `result.infer_objects(copy=False)`. To opt-in to the future behavior, set `pd.set_option('future.no_silent_downcasting', True)`\n",
            "  df['bathrooms'] = df['bathrooms'].replace(['No 0 baños'], 0)\n"
          ]
        }
      ]
    },
    {
      "cell_type": "code",
      "source": [
        "# Tiene mas de 3 camas\n",
        "df['bedrooms'] = np.where(df['bedrooms'] > 3, 'Mas de 3 camas', '3 camas o menos')\n",
        "\n",
        "df['bedrooms'] = df['bedrooms'].replace(['Mas de 3 camas'], 1)\n",
        "df['bedrooms'] = df['bedrooms'].replace(['3 camas o menos'], 0)\n",
        "\n",
        "print(df['bedrooms'].unique())"
      ],
      "metadata": {
        "colab": {
          "base_uri": "https://localhost:8080/"
        },
        "id": "3-LoDtuT8Y69",
        "outputId": "6f67ca5d-18ba-4f04-a1ec-4105c94016ea"
      },
      "execution_count": 272,
      "outputs": [
        {
          "output_type": "stream",
          "name": "stdout",
          "text": [
            "[0 1]\n"
          ]
        },
        {
          "output_type": "stream",
          "name": "stderr",
          "text": [
            "<ipython-input-272-ccdcba50c09a>:5: FutureWarning: Downcasting behavior in `replace` is deprecated and will be removed in a future version. To retain the old behavior, explicitly call `result.infer_objects(copy=False)`. To opt-in to the future behavior, set `pd.set_option('future.no_silent_downcasting', True)`\n",
            "  df['bedrooms'] = df['bedrooms'].replace(['3 camas o menos'], 0)\n"
          ]
        }
      ]
    },
    {
      "cell_type": "code",
      "source": [
        "# Responde en menos de una hora\n",
        "df['host_response_time'] = np.where(df['host_response_time'] == 'within an hour', 1, 0)\n",
        "\n",
        "print(df['host_response_time'].unique())"
      ],
      "metadata": {
        "colab": {
          "base_uri": "https://localhost:8080/"
        },
        "id": "KyjZX2E5Sfi3",
        "outputId": "399d5992-e249-4e49-a79a-1ceeef2c86bd"
      },
      "execution_count": 273,
      "outputs": [
        {
          "output_type": "stream",
          "name": "stdout",
          "text": [
            "[0 1]\n"
          ]
        }
      ]
    },
    {
      "cell_type": "code",
      "source": [
        "# El tipo de habitacion es privada\n",
        "df['room_type'] = np.where(df['room_type'] == 'Private room', 1, 0)\n",
        "\n",
        "print(df['room_type'].unique())"
      ],
      "metadata": {
        "colab": {
          "base_uri": "https://localhost:8080/"
        },
        "id": "dKP0R19rUCIR",
        "outputId": "d384e804-313a-41d8-8aca-61f1a32b1897"
      },
      "execution_count": 274,
      "outputs": [
        {
          "output_type": "stream",
          "name": "stdout",
          "text": [
            "[0 1]\n"
          ]
        }
      ]
    },
    {
      "cell_type": "code",
      "source": [
        "# Tiene capacidad para 4 personas\n",
        "df['accommodates'] = np.where(df['accommodates'] == 4, 1, 0)\n",
        "\n",
        "print(df['accommodates'].unique())"
      ],
      "metadata": {
        "colab": {
          "base_uri": "https://localhost:8080/"
        },
        "id": "7OnrqxEgUqYK",
        "outputId": "c3965d0d-0d59-4ca5-c560-16dfa6121c85"
      },
      "execution_count": 275,
      "outputs": [
        {
          "output_type": "stream",
          "name": "stdout",
          "text": [
            "[1 0]\n"
          ]
        }
      ]
    },
    {
      "cell_type": "code",
      "source": [
        "media = df['price'].mean()\n",
        "\n",
        "df['price'] = np.where(df['price'] > media, 'es mayor a la media', 'menor a la media')\n",
        "\n",
        "df['price'] = df['price'].replace(['es mayor a la media'], 1)\n",
        "df['price'] = df['price'].replace(['menor a la media'], 0)\n",
        "print(df['price'].unique())"
      ],
      "metadata": {
        "colab": {
          "base_uri": "https://localhost:8080/"
        },
        "id": "HhErUMi632Xp",
        "outputId": "441476be-658a-47e5-d400-4c9306ef54f3"
      },
      "execution_count": 276,
      "outputs": [
        {
          "output_type": "stream",
          "name": "stdout",
          "text": [
            "[1 0]\n"
          ]
        },
        {
          "output_type": "stream",
          "name": "stderr",
          "text": [
            "<ipython-input-276-167b379f2167>:6: FutureWarning: Downcasting behavior in `replace` is deprecated and will be removed in a future version. To retain the old behavior, explicitly call `result.infer_objects(copy=False)`. To opt-in to the future behavior, set `pd.set_option('future.no_silent_downcasting', True)`\n",
            "  df['price'] = df['price'].replace(['menor a la media'], 0)\n"
          ]
        }
      ]
    },
    {
      "cell_type": "markdown",
      "source": [
        "# **Variables**"
      ],
      "metadata": {
        "id": "4eEKFBBFDCkv"
      }
    },
    {
      "cell_type": "code",
      "source": [
        "# Variables dependientes\n",
        "Variables_dependientes = [\n",
        "    'host_is_superhost',\n",
        "    'host_identity_verified',\n",
        "    'has_availability',\n",
        "    'instant_bookable',\n",
        "    'bathrooms',\n",
        "    'bedrooms',\n",
        "    'host_response_time',\n",
        "    'room_type',\n",
        "    'accommodates',\n",
        "    'price'\n",
        "]\n",
        "\n",
        "# Variables independientes (en el mismo orden que las dependientes)\n",
        "Variables_independientes = [\n",
        "    ['host_acceptance_rate', 'host_listings_count', 'review_scores_rating'],  # host_is_superhost\n",
        "    ['host_has_profile_pic', 'host_listings_count', 'host_verifications'],  # host_identity_verified\n",
        "    ['availability_30', 'availability_90', 'availability_365'],  # has_availability\n",
        "    ['number_of_reviews', 'review_scores_accuracy', 'review_scores_cleanliness'],  # instant_bookable\n",
        "    ['bathrooms_text', 'property_type', 'review_scores_cleanliness'],  # bathrooms\n",
        "    ['beds', 'review_scores_value', 'availability_60'],  # bedrooms\n",
        "    ['host_response_rate', 'number_of_reviews_l30d', 'review_scores_communication'],  # host_response_time\n",
        "    ['review_scores_location', 'neighbourhood_group_cleansed'],  # room_type\n",
        "    ['minimum_nights', 'maximum_nights', 'calculated_host_listings_count'],  # accommodates\n",
        "    ['minimum_nights_avg_ntm', 'maximum_nights_avg_ntm', 'review_scores_checkin']  # price\n",
        "]\n"
      ],
      "metadata": {
        "id": "1EWD-_KnxoDK"
      },
      "execution_count": 277,
      "outputs": []
    },
    {
      "cell_type": "markdown",
      "source": [
        "# **Convertir a numericas**"
      ],
      "metadata": {
        "id": "p903gOCPy2Ob"
      }
    },
    {
      "cell_type": "code",
      "source": [
        "def numerica(x):\n",
        "    mapping = dict(enumerate(df[x].astype(\"category\").cat.categories))  # Guarda el mapeo de códigos\n",
        "    print(f\"Mapping para '{x}': {mapping}\")\n",
        "    df[x] = df[x].astype(\"category\").cat.codes\n",
        "\n",
        "for lista in Variables_independientes:  # Itera sobre cada lista dentro de la lista principal\n",
        "    for columna in lista:  # Itera sobre cada variable dentro de la lista\n",
        "        numerica(columna)\n"
      ],
      "metadata": {
        "colab": {
          "base_uri": "https://localhost:8080/"
        },
        "id": "W2JdqSUWoZMm",
        "outputId": "686af722-91e7-41f4-8757-f73c66b0ecc7"
      },
      "execution_count": 278,
      "outputs": [
        {
          "output_type": "stream",
          "name": "stdout",
          "text": [
            "Mapping para 'host_acceptance_rate': {0: 0.0, 1: 2.0, 2: 7.0, 3: 9.0, 4: 10.0, 5: 12.0, 6: 14.0, 7: 17.0, 8: 18.0, 9: 22.0, 10: 25.0, 11: 26.0, 12: 28.0, 13: 29.0, 14: 33.0, 15: 34.0, 16: 36.0, 17: 38.0, 18: 40.0, 19: 42.0, 20: 43.0, 21: 48.0, 22: 49.0, 23: 50.0, 24: 54.0, 25: 55.0, 26: 56.0, 27: 57.0, 28: 58.0, 29: 59.0, 30: 60.0, 31: 61.0, 32: 62.0, 33: 63.0, 34: 64.0, 35: 65.0, 36: 66.0, 37: 67.0, 38: 68.0, 39: 69.0, 40: 70.0, 41: 71.0, 42: 72.0, 43: 73.0, 44: 74.0, 45: 75.0, 46: 76.0, 47: 77.0, 48: 78.0, 49: 79.0, 50: 80.0, 51: 81.0, 52: 82.0, 53: 83.0, 54: 84.0, 55: 85.0, 56: 86.0, 57: 87.0, 58: 88.0, 59: 89.0, 60: 90.0, 61: 91.0, 62: 92.0, 63: 93.0, 64: 94.0, 65: 95.0, 66: 96.0, 67: 97.0, 68: 98.0, 69: 99.0, 70: 100.0}\n",
            "Mapping para 'host_listings_count': {0: 1, 1: 2, 2: 3, 3: 4, 4: 5, 5: 6, 6: 7, 7: 8, 8: 9, 9: 10, 10: 11, 11: 12, 12: 13, 13: 14, 14: 15, 15: 16, 16: 17, 17: 18, 18: 22, 19: 23, 20: 24, 21: 25, 22: 26, 23: 30, 24: 31, 25: 32, 26: 35, 27: 43, 28: 57, 29: 61, 30: 67, 31: 68, 32: 109, 33: 132}\n",
            "Mapping para 'review_scores_rating': {0: 1.0, 1: 1.5, 2: 1.67, 3: 2.0, 4: 2.33, 5: 2.5, 6: 3.0, 7: 3.33, 8: 3.4, 9: 3.5, 10: 3.6, 11: 3.67, 12: 3.75, 13: 3.8, 14: 3.86, 15: 3.91, 16: 3.92, 17: 3.94, 18: 4.0, 19: 4.01, 20: 4.09, 21: 4.1, 22: 4.11, 23: 4.12, 24: 4.13, 25: 4.14, 26: 4.17, 27: 4.19, 28: 4.2, 29: 4.21, 30: 4.22, 31: 4.23, 32: 4.25, 33: 4.27, 34: 4.29, 35: 4.3, 36: 4.31, 37: 4.32, 38: 4.33, 39: 4.35, 40: 4.36, 41: 4.38, 42: 4.39, 43: 4.4, 44: 4.41, 45: 4.43, 46: 4.44, 47: 4.45, 48: 4.46, 49: 4.47, 50: 4.48, 51: 4.49, 52: 4.5, 53: 4.51, 54: 4.52, 55: 4.53, 56: 4.54, 57: 4.55, 58: 4.56, 59: 4.57, 60: 4.58, 61: 4.59, 62: 4.6, 63: 4.61, 64: 4.62, 65: 4.63, 66: 4.64, 67: 4.65, 68: 4.66, 69: 4.67, 70: 4.68, 71: 4.69, 72: 4.7, 73: 4.71, 74: 4.72, 75: 4.73, 76: 4.74, 77: 4.75, 78: 4.76, 79: 4.77, 80: 4.78, 81: 4.79, 82: 4.8, 83: 4.81, 84: 4.82, 85: 4.83, 86: 4.84, 87: 4.85, 88: 4.86, 89: 4.87, 90: 4.88, 91: 4.89, 92: 4.9, 93: 4.91, 94: 4.92, 95: 4.93, 96: 4.94, 97: 4.95, 98: 4.96, 99: 4.97, 100: 4.98, 101: 4.99, 102: 5.0}\n",
            "Mapping para 'host_has_profile_pic': {0: 'f', 1: 't'}\n",
            "Mapping para 'host_listings_count': {0: 0, 1: 1, 2: 2, 3: 3, 4: 4, 5: 5, 6: 6, 7: 7, 8: 8, 9: 9, 10: 10, 11: 11, 12: 12, 13: 13, 14: 14, 15: 15, 16: 16, 17: 17, 18: 18, 19: 19, 20: 20, 21: 21, 22: 22, 23: 23, 24: 24, 25: 25, 26: 26, 27: 27, 28: 28, 29: 29, 30: 30, 31: 31, 32: 32, 33: 33}\n",
            "Mapping para 'host_verifications': {0: \"['email', 'phone', 'work_email']\", 1: \"['email', 'phone']\", 2: \"['email']\", 3: \"['phone', 'work_email']\", 4: \"['phone']\", 5: \"['work_email']\", 6: '[]'}\n",
            "Mapping para 'availability_30': {0: 0, 1: 1, 2: 2, 3: 3, 4: 4, 5: 5, 6: 6, 7: 7, 8: 8, 9: 9, 10: 10, 11: 11, 12: 12, 13: 13, 14: 14, 15: 15, 16: 16, 17: 17, 18: 18, 19: 19, 20: 20, 21: 21, 22: 22, 23: 23, 24: 24, 25: 25, 26: 26, 27: 27, 28: 28, 29: 29, 30: 30}\n",
            "Mapping para 'availability_90': {0: 0, 1: 1, 2: 2, 3: 3, 4: 4, 5: 5, 6: 6, 7: 7, 8: 8, 9: 9, 10: 10, 11: 11, 12: 12, 13: 13, 14: 14, 15: 15, 16: 16, 17: 17, 18: 18, 19: 19, 20: 20, 21: 21, 22: 22, 23: 23, 24: 24, 25: 25, 26: 26, 27: 27, 28: 28, 29: 29, 30: 30, 31: 31, 32: 32, 33: 33, 34: 34, 35: 35, 36: 36, 37: 37, 38: 38, 39: 39, 40: 40, 41: 41, 42: 42, 43: 43, 44: 44, 45: 45, 46: 46, 47: 47, 48: 48, 49: 49, 50: 50, 51: 51, 52: 52, 53: 53, 54: 54, 55: 55, 56: 56, 57: 57, 58: 58, 59: 59, 60: 60, 61: 61, 62: 62, 63: 63, 64: 64, 65: 65, 66: 66, 67: 67, 68: 68, 69: 69, 70: 70, 71: 71, 72: 72, 73: 73, 74: 74, 75: 75, 76: 76, 77: 77, 78: 78, 79: 79, 80: 80, 81: 81, 82: 82, 83: 83, 84: 84, 85: 85, 86: 86, 87: 87, 88: 88, 89: 89, 90: 90}\n",
            "Mapping para 'availability_365': {0: 0, 1: 1, 2: 2, 3: 4, 4: 5, 5: 6, 6: 7, 7: 8, 8: 9, 9: 10, 10: 11, 11: 12, 12: 14, 13: 15, 14: 16, 15: 17, 16: 18, 17: 19, 18: 20, 19: 21, 20: 22, 21: 23, 22: 24, 23: 25, 24: 26, 25: 27, 26: 28, 27: 30, 28: 31, 29: 32, 30: 33, 31: 34, 32: 35, 33: 36, 34: 38, 35: 39, 36: 40, 37: 41, 38: 42, 39: 43, 40: 44, 41: 45, 42: 46, 43: 47, 44: 48, 45: 49, 46: 50, 47: 51, 48: 52, 49: 53, 50: 54, 51: 55, 52: 56, 53: 57, 54: 58, 55: 59, 56: 60, 57: 61, 58: 62, 59: 63, 60: 64, 61: 65, 62: 66, 63: 67, 64: 68, 65: 69, 66: 70, 67: 71, 68: 72, 69: 73, 70: 74, 71: 75, 72: 76, 73: 77, 74: 78, 75: 79, 76: 80, 77: 81, 78: 82, 79: 83, 80: 84, 81: 85, 82: 86, 83: 87, 84: 88, 85: 89, 86: 90, 87: 91, 88: 92, 89: 93, 90: 94, 91: 95, 92: 96, 93: 97, 94: 98, 95: 99, 96: 100, 97: 101, 98: 102, 99: 103, 100: 104, 101: 105, 102: 106, 103: 107, 104: 109, 105: 110, 106: 112, 107: 113, 108: 114, 109: 115, 110: 116, 111: 118, 112: 119, 113: 120, 114: 121, 115: 122, 116: 123, 117: 124, 118: 125, 119: 126, 120: 127, 121: 128, 122: 129, 123: 130, 124: 131, 125: 132, 126: 133, 127: 134, 128: 135, 129: 136, 130: 137, 131: 138, 132: 139, 133: 140, 134: 141, 135: 142, 136: 143, 137: 145, 138: 146, 139: 147, 140: 148, 141: 149, 142: 150, 143: 151, 144: 152, 145: 153, 146: 154, 147: 155, 148: 156, 149: 157, 150: 158, 151: 159, 152: 160, 153: 161, 154: 162, 155: 163, 156: 164, 157: 165, 158: 166, 159: 167, 160: 168, 161: 169, 162: 170, 163: 171, 164: 172, 165: 173, 166: 174, 167: 175, 168: 176, 169: 177, 170: 178, 171: 179, 172: 180, 173: 181, 174: 182, 175: 183, 176: 185, 177: 186, 178: 187, 179: 188, 180: 189, 181: 190, 182: 191, 183: 192, 184: 193, 185: 194, 186: 195, 187: 196, 188: 198, 189: 199, 190: 200, 191: 201, 192: 202, 193: 203, 194: 204, 195: 205, 196: 206, 197: 207, 198: 209, 199: 210, 200: 212, 201: 213, 202: 214, 203: 216, 204: 217, 205: 218, 206: 219, 207: 220, 208: 221, 209: 222, 210: 223, 211: 224, 212: 225, 213: 226, 214: 227, 215: 228, 216: 229, 217: 230, 218: 231, 219: 232, 220: 233, 221: 234, 222: 235, 223: 236, 224: 237, 225: 238, 226: 239, 227: 240, 228: 241, 229: 242, 230: 243, 231: 244, 232: 245, 233: 246, 234: 247, 235: 248, 236: 249, 237: 250, 238: 251, 239: 252, 240: 253, 241: 254, 242: 255, 243: 256, 244: 257, 245: 258, 246: 259, 247: 260, 248: 261, 249: 262, 250: 263, 251: 264, 252: 265, 253: 266, 254: 267, 255: 268, 256: 269, 257: 270, 258: 271, 259: 272, 260: 273, 261: 274, 262: 275, 263: 276, 264: 277, 265: 278, 266: 279, 267: 280, 268: 281, 269: 282, 270: 283, 271: 284, 272: 285, 273: 286, 274: 287, 275: 288, 276: 289, 277: 290, 278: 291, 279: 292, 280: 293, 281: 294, 282: 295, 283: 296, 284: 297, 285: 298, 286: 299, 287: 300, 288: 301, 289: 302, 290: 303, 291: 304, 292: 306, 293: 307, 294: 308, 295: 310, 296: 311, 297: 312, 298: 313, 299: 314, 300: 315, 301: 316, 302: 317, 303: 318, 304: 319, 305: 320, 306: 321, 307: 322, 308: 323, 309: 324, 310: 325, 311: 326, 312: 327, 313: 328, 314: 329, 315: 330, 316: 331, 317: 332, 318: 333, 319: 334, 320: 335, 321: 336, 322: 337, 323: 338, 324: 339, 325: 340, 326: 341, 327: 342, 328: 343, 329: 344, 330: 345, 331: 346, 332: 347, 333: 348, 334: 349, 335: 350, 336: 351, 337: 352, 338: 353, 339: 354, 340: 355, 341: 356, 342: 357, 343: 358, 344: 359, 345: 360, 346: 361, 347: 362, 348: 363, 349: 364, 350: 365}\n",
            "Mapping para 'number_of_reviews': {0: 0, 1: 1, 2: 2, 3: 3, 4: 4, 5: 5, 6: 6, 7: 7, 8: 8, 9: 9, 10: 10, 11: 11, 12: 12, 13: 13, 14: 14, 15: 15, 16: 16, 17: 17, 18: 18, 19: 19, 20: 20, 21: 21, 22: 22, 23: 23, 24: 24, 25: 25, 26: 26, 27: 27, 28: 28, 29: 29, 30: 30, 31: 31, 32: 32, 33: 33, 34: 34, 35: 35, 36: 36, 37: 37, 38: 38, 39: 39, 40: 40, 41: 41, 42: 42, 43: 43, 44: 44, 45: 45, 46: 46, 47: 47, 48: 48, 49: 49, 50: 50, 51: 51, 52: 52, 53: 53, 54: 54, 55: 55, 56: 56, 57: 57, 58: 58, 59: 59, 60: 60, 61: 61, 62: 62, 63: 63, 64: 64, 65: 65, 66: 66, 67: 67, 68: 68, 69: 69, 70: 70, 71: 71, 72: 72, 73: 73, 74: 74, 75: 75, 76: 76, 77: 77, 78: 78, 79: 79, 80: 80, 81: 81, 82: 82, 83: 83, 84: 84, 85: 85, 86: 86, 87: 87, 88: 88, 89: 89, 90: 90, 91: 91, 92: 92, 93: 93, 94: 94, 95: 95, 96: 96, 97: 97, 98: 98, 99: 99, 100: 100, 101: 101, 102: 102, 103: 103, 104: 104, 105: 105, 106: 106, 107: 107, 108: 108, 109: 109, 110: 111, 111: 112, 112: 113, 113: 114, 114: 115, 115: 116, 116: 117, 117: 118, 118: 119, 119: 120, 120: 122, 121: 123, 122: 124, 123: 125, 124: 126, 125: 127, 126: 128, 127: 129, 128: 130, 129: 131, 130: 133, 131: 134, 132: 135, 133: 136, 134: 137, 135: 138, 136: 139, 137: 140, 138: 141, 139: 142, 140: 143, 141: 144, 142: 145, 143: 146, 144: 147, 145: 148, 146: 151, 147: 152, 148: 153, 149: 154, 150: 155, 151: 156, 152: 157, 153: 158, 154: 159, 155: 160, 156: 161, 157: 162, 158: 164, 159: 165, 160: 166, 161: 167, 162: 168, 163: 171, 164: 172, 165: 173, 166: 175, 167: 177, 168: 178, 169: 179, 170: 180, 171: 181, 172: 182, 173: 183, 174: 185, 175: 186, 176: 187, 177: 188, 178: 191, 179: 192, 180: 194, 181: 195, 182: 196, 183: 197, 184: 198, 185: 199, 186: 200, 187: 201, 188: 203, 189: 204, 190: 205, 191: 206, 192: 207, 193: 208, 194: 209, 195: 210, 196: 213, 197: 214, 198: 215, 199: 216, 200: 217, 201: 218, 202: 219, 203: 220, 204: 223, 205: 225, 206: 227, 207: 228, 208: 230, 209: 231, 210: 232, 211: 233, 212: 234, 213: 238, 214: 239, 215: 240, 216: 242, 217: 243, 218: 244, 219: 248, 220: 250, 221: 251, 222: 252, 223: 254, 224: 255, 225: 256, 226: 259, 227: 263, 228: 267, 229: 269, 230: 270, 231: 273, 232: 288, 233: 289, 234: 293, 235: 296, 236: 298, 237: 300, 238: 301, 239: 303, 240: 305, 241: 307, 242: 309, 243: 315, 244: 316, 245: 318, 246: 321, 247: 326, 248: 333, 249: 334, 250: 336, 251: 339, 252: 343, 253: 345, 254: 352, 255: 353, 256: 356, 257: 371, 258: 376, 259: 382, 260: 391, 261: 398, 262: 400, 263: 409, 264: 414, 265: 415, 266: 418, 267: 422, 268: 435, 269: 445, 270: 447, 271: 454, 272: 455, 273: 457, 274: 464, 275: 467, 276: 468, 277: 473, 278: 499, 279: 517, 280: 519, 281: 526, 282: 532, 283: 552, 284: 569, 285: 591, 286: 652, 287: 664, 288: 665, 289: 765, 290: 808, 291: 885, 292: 1700}\n",
            "Mapping para 'review_scores_accuracy': {0: 1.0, 1: 1.5, 2: 2.0, 3: 2.5, 4: 2.67, 5: 3.0, 6: 3.2, 7: 3.33, 8: 3.4, 9: 3.5, 10: 3.6, 11: 3.67, 12: 3.7, 13: 3.75, 14: 3.82, 15: 4.0, 16: 4.06, 17: 4.07, 18: 4.08, 19: 4.17, 20: 4.18, 21: 4.2, 22: 4.24, 23: 4.25, 24: 4.29, 25: 4.3, 26: 4.33, 27: 4.35, 28: 4.36, 29: 4.37, 30: 4.38, 31: 4.39, 32: 4.4, 33: 4.41, 34: 4.42, 35: 4.43, 36: 4.44, 37: 4.45, 38: 4.46, 39: 4.47, 40: 4.48, 41: 4.49, 42: 4.5, 43: 4.51, 44: 4.52, 45: 4.53, 46: 4.54, 47: 4.56, 48: 4.57, 49: 4.58, 50: 4.59, 51: 4.6, 52: 4.61, 53: 4.62, 54: 4.63, 55: 4.64, 56: 4.65, 57: 4.66, 58: 4.67, 59: 4.68, 60: 4.69, 61: 4.7, 62: 4.71, 63: 4.72, 64: 4.73, 65: 4.74, 66: 4.75, 67: 4.76, 68: 4.77, 69: 4.78, 70: 4.79, 71: 4.8, 72: 4.81, 73: 4.82, 74: 4.83, 75: 4.84, 76: 4.85, 77: 4.86, 78: 4.87, 79: 4.88, 80: 4.89, 81: 4.9, 82: 4.91, 83: 4.92, 84: 4.93, 85: 4.94, 86: 4.95, 87: 4.96, 88: 4.97, 89: 4.98, 90: 4.99, 91: 5.0}\n",
            "Mapping para 'review_scores_cleanliness': {0: 1.0, 1: 1.5, 2: 2.0, 3: 2.25, 4: 2.67, 5: 2.8, 6: 3.0, 7: 3.14, 8: 3.2, 9: 3.3, 10: 3.33, 11: 3.5, 12: 3.56, 13: 3.6, 14: 3.67, 15: 3.83, 16: 3.85, 17: 3.86, 18: 3.88, 19: 3.9, 20: 3.91, 21: 3.94, 22: 3.98, 23: 4.0, 24: 4.07, 25: 4.08, 26: 4.09, 27: 4.11, 28: 4.13, 29: 4.14, 30: 4.15, 31: 4.16, 32: 4.17, 33: 4.18, 34: 4.2, 35: 4.22, 36: 4.23, 37: 4.24, 38: 4.25, 39: 4.27, 40: 4.28, 41: 4.29, 42: 4.3, 43: 4.31, 44: 4.33, 45: 4.34, 46: 4.35, 47: 4.36, 48: 4.37, 49: 4.38, 50: 4.39, 51: 4.4, 52: 4.41, 53: 4.42, 54: 4.43, 55: 4.44, 56: 4.45, 57: 4.46, 58: 4.47, 59: 4.49, 60: 4.5, 61: 4.51, 62: 4.52, 63: 4.53, 64: 4.54, 65: 4.55, 66: 4.56, 67: 4.57, 68: 4.58, 69: 4.59, 70: 4.6, 71: 4.61, 72: 4.62, 73: 4.63, 74: 4.64, 75: 4.65, 76: 4.66, 77: 4.67, 78: 4.68, 79: 4.69, 80: 4.7, 81: 4.71, 82: 4.72, 83: 4.73, 84: 4.74, 85: 4.75, 86: 4.76, 87: 4.77, 88: 4.78, 89: 4.79, 90: 4.8, 91: 4.81, 92: 4.82, 93: 4.83, 94: 4.84, 95: 4.85, 96: 4.86, 97: 4.87, 98: 4.88, 99: 4.89, 100: 4.9, 101: 4.91, 102: 4.92, 103: 4.93, 104: 4.94, 105: 4.95, 106: 4.96, 107: 4.97, 108: 4.98, 109: 4.99, 110: 5.0}\n",
            "Mapping para 'bathrooms_text': {0: '0 baths', 1: '0 shared baths', 2: '1 bath', 3: '1 private bath', 4: '1 shared bath', 5: '1.5 baths', 6: '1.5 shared baths', 7: '2 baths', 8: '2 shared baths', 9: '2.5 baths', 10: '2.5 shared baths', 11: '3 baths', 12: '3.5 baths', 13: '3.5 shared baths', 14: '4 baths', 15: '4 shared baths', 16: '4.5 baths', 17: '5 baths', 18: '6 baths', 19: '7.5 baths', 20: '9 baths', 21: 'Half-bath', 22: 'Private half-bath', 23: 'Shared half-bath'}\n",
            "Mapping para 'property_type': {0: 'Barn', 1: 'Camper/RV', 2: 'Campsite', 3: 'Entire bungalow', 4: 'Entire cabin', 5: 'Entire chalet', 6: 'Entire condo', 7: 'Entire cottage', 8: 'Entire guest suite', 9: 'Entire guesthouse', 10: 'Entire home', 11: 'Entire loft', 12: 'Entire place', 13: 'Entire rental unit', 14: 'Entire serviced apartment', 15: 'Entire townhouse', 16: 'Entire vacation home', 17: 'Entire villa', 18: 'Farm stay', 19: 'Private room', 20: 'Private room in bed and breakfast', 21: 'Private room in bungalow', 22: 'Private room in condo', 23: 'Private room in farm stay', 24: 'Private room in guest suite', 25: 'Private room in guesthouse', 26: 'Private room in home', 27: 'Private room in loft', 28: 'Private room in rental unit', 29: 'Private room in townhouse', 30: 'Private room in villa', 31: 'Room in boutique hotel', 32: 'Room in hotel', 33: 'Shared room in home', 34: 'Tiny home'}\n",
            "Mapping para 'review_scores_cleanliness': {0: 0, 1: 1, 2: 2, 3: 3, 4: 4, 5: 5, 6: 6, 7: 7, 8: 8, 9: 9, 10: 10, 11: 11, 12: 12, 13: 13, 14: 14, 15: 15, 16: 16, 17: 17, 18: 18, 19: 19, 20: 20, 21: 21, 22: 22, 23: 23, 24: 24, 25: 25, 26: 26, 27: 27, 28: 28, 29: 29, 30: 30, 31: 31, 32: 32, 33: 33, 34: 34, 35: 35, 36: 36, 37: 37, 38: 38, 39: 39, 40: 40, 41: 41, 42: 42, 43: 43, 44: 44, 45: 45, 46: 46, 47: 47, 48: 48, 49: 49, 50: 50, 51: 51, 52: 52, 53: 53, 54: 54, 55: 55, 56: 56, 57: 57, 58: 58, 59: 59, 60: 60, 61: 61, 62: 62, 63: 63, 64: 64, 65: 65, 66: 66, 67: 67, 68: 68, 69: 69, 70: 70, 71: 71, 72: 72, 73: 73, 74: 74, 75: 75, 76: 76, 77: 77, 78: 78, 79: 79, 80: 80, 81: 81, 82: 82, 83: 83, 84: 84, 85: 85, 86: 86, 87: 87, 88: 88, 89: 89, 90: 90, 91: 91, 92: 92, 93: 93, 94: 94, 95: 95, 96: 96, 97: 97, 98: 98, 99: 99, 100: 100, 101: 101, 102: 102, 103: 103, 104: 104, 105: 105, 106: 106, 107: 107, 108: 108, 109: 109, 110: 110}\n",
            "Mapping para 'beds': {0: 0.0, 1: 1.0, 2: 2.0, 3: 3.0, 4: 4.0, 5: 5.0, 6: 6.0, 7: 7.0, 8: 8.0, 9: 9.0, 10: 10.0, 11: 11.0, 12: 12.0, 13: 14.0, 14: 19.0}\n",
            "Mapping para 'review_scores_value': {0: 1.0, 1: 1.33, 2: 1.5, 3: 2.0, 4: 2.2, 5: 2.25, 6: 2.33, 7: 3.0, 8: 3.25, 9: 3.33, 10: 3.4, 11: 3.5, 12: 3.57, 13: 3.6, 14: 3.67, 15: 3.71, 16: 3.75, 17: 3.83, 18: 3.85, 19: 3.86, 20: 3.88, 21: 3.9, 22: 3.91, 23: 4.0, 24: 4.05, 25: 4.06, 26: 4.07, 27: 4.09, 28: 4.11, 29: 4.13, 30: 4.14, 31: 4.17, 32: 4.18, 33: 4.19, 34: 4.2, 35: 4.22, 36: 4.23, 37: 4.24, 38: 4.25, 39: 4.26, 40: 4.27, 41: 4.28, 42: 4.29, 43: 4.3, 44: 4.31, 45: 4.33, 46: 4.35, 47: 4.36, 48: 4.37, 49: 4.38, 50: 4.39, 51: 4.4, 52: 4.41, 53: 4.42, 54: 4.43, 55: 4.44, 56: 4.45, 57: 4.46, 58: 4.47, 59: 4.48, 60: 4.49, 61: 4.5, 62: 4.51, 63: 4.52, 64: 4.53, 65: 4.54, 66: 4.55, 67: 4.56, 68: 4.57, 69: 4.58, 70: 4.59, 71: 4.6, 72: 4.61, 73: 4.62, 74: 4.63, 75: 4.64, 76: 4.65, 77: 4.66, 78: 4.67, 79: 4.68, 80: 4.69, 81: 4.7, 82: 4.71, 83: 4.72, 84: 4.73, 85: 4.74, 86: 4.75, 87: 4.76, 88: 4.77, 89: 4.78, 90: 4.79, 91: 4.8, 92: 4.81, 93: 4.82, 94: 4.83, 95: 4.84, 96: 4.85, 97: 4.86, 98: 4.87, 99: 4.88, 100: 4.89, 101: 4.9, 102: 4.91, 103: 4.92, 104: 4.93, 105: 4.94, 106: 4.95, 107: 4.96, 108: 4.97, 109: 4.98, 110: 4.99, 111: 5.0}\n",
            "Mapping para 'availability_60': {0: 0, 1: 1, 2: 2, 3: 3, 4: 4, 5: 5, 6: 6, 7: 7, 8: 8, 9: 9, 10: 10, 11: 11, 12: 12, 13: 13, 14: 14, 15: 15, 16: 16, 17: 17, 18: 18, 19: 19, 20: 20, 21: 21, 22: 22, 23: 23, 24: 24, 25: 25, 26: 26, 27: 27, 28: 28, 29: 29, 30: 30, 31: 31, 32: 32, 33: 33, 34: 34, 35: 35, 36: 36, 37: 37, 38: 38, 39: 39, 40: 40, 41: 41, 42: 42, 43: 43, 44: 44, 45: 45, 46: 46, 47: 47, 48: 48, 49: 49, 50: 50, 51: 51, 52: 52, 53: 53, 54: 54, 55: 55, 56: 56, 57: 57, 58: 58, 59: 59, 60: 60}\n",
            "Mapping para 'host_response_rate': {0: 0.0, 1: 14.0, 2: 17.0, 3: 20.0, 4: 25.0, 5: 30.0, 6: 38.0, 7: 40.0, 8: 43.0, 9: 50.0, 10: 60.0, 11: 63.0, 12: 67.0, 13: 70.0, 14: 71.0, 15: 74.0, 16: 75.0, 17: 78.0, 18: 80.0, 19: 83.0, 20: 85.0, 21: 86.0, 22: 87.0, 23: 88.0, 24: 89.0, 25: 90.0, 26: 91.0, 27: 92.0, 28: 93.0, 29: 94.0, 30: 95.0, 31: 96.0, 32: 97.0, 33: 98.0, 34: 99.0, 35: 100.0}\n",
            "Mapping para 'number_of_reviews_l30d': {0: 0, 1: 1, 2: 2, 3: 3, 4: 4, 5: 5, 6: 6, 7: 7, 8: 8, 9: 9, 10: 10, 11: 11, 12: 13, 13: 14, 14: 15, 15: 19, 16: 30, 17: 51}\n",
            "Mapping para 'review_scores_communication': {0: 1.0, 1: 2.0, 2: 3.0, 3: 3.25, 4: 3.33, 5: 3.4, 6: 3.5, 7: 3.6, 8: 3.67, 9: 3.75, 10: 3.8, 11: 4.0, 12: 4.08, 13: 4.1, 14: 4.11, 15: 4.14, 16: 4.15, 17: 4.17, 18: 4.2, 19: 4.22, 20: 4.24, 21: 4.25, 22: 4.27, 23: 4.31, 24: 4.33, 25: 4.36, 26: 4.38, 27: 4.4, 28: 4.42, 29: 4.43, 30: 4.44, 31: 4.45, 32: 4.46, 33: 4.47, 34: 4.49, 35: 4.5, 36: 4.52, 37: 4.53, 38: 4.54, 39: 4.55, 40: 4.56, 41: 4.57, 42: 4.58, 43: 4.59, 44: 4.6, 45: 4.61, 46: 4.62, 47: 4.63, 48: 4.64, 49: 4.65, 50: 4.66, 51: 4.67, 52: 4.68, 53: 4.69, 54: 4.7, 55: 4.71, 56: 4.72, 57: 4.73, 58: 4.74, 59: 4.75, 60: 4.76, 61: 4.77, 62: 4.78, 63: 4.79, 64: 4.8, 65: 4.81, 66: 4.82, 67: 4.83, 68: 4.84, 69: 4.85, 70: 4.86, 71: 4.87, 72: 4.88, 73: 4.89, 74: 4.9, 75: 4.91, 76: 4.92, 77: 4.93, 78: 4.94, 79: 4.95, 80: 4.96, 81: 4.97, 82: 4.98, 83: 4.99, 84: 5.0}\n",
            "Mapping para 'review_scores_location': {0: 1.0, 1: 2.0, 2: 2.33, 3: 3.0, 4: 3.5, 5: 3.6, 6: 3.67, 7: 3.75, 8: 3.8, 9: 3.86, 10: 3.94, 11: 4.0, 12: 4.14, 13: 4.17, 14: 4.2, 15: 4.21, 16: 4.23, 17: 4.25, 18: 4.27, 19: 4.29, 20: 4.3, 21: 4.31, 22: 4.32, 23: 4.33, 24: 4.35, 25: 4.36, 26: 4.37, 27: 4.38, 28: 4.39, 29: 4.4, 30: 4.42, 31: 4.43, 32: 4.44, 33: 4.45, 34: 4.46, 35: 4.47, 36: 4.48, 37: 4.49, 38: 4.5, 39: 4.51, 40: 4.52, 41: 4.53, 42: 4.54, 43: 4.55, 44: 4.56, 45: 4.57, 46: 4.58, 47: 4.59, 48: 4.6, 49: 4.61, 50: 4.62, 51: 4.63, 52: 4.64, 53: 4.65, 54: 4.66, 55: 4.67, 56: 4.68, 57: 4.69, 58: 4.7, 59: 4.71, 60: 4.72, 61: 4.73, 62: 4.74, 63: 4.75, 64: 4.76, 65: 4.77, 66: 4.78, 67: 4.79, 68: 4.8, 69: 4.81, 70: 4.82, 71: 4.83, 72: 4.84, 73: 4.85, 74: 4.86, 75: 4.87, 76: 4.88, 77: 4.89, 78: 4.9, 79: 4.91, 80: 4.92, 81: 4.93, 82: 4.94, 83: 4.95, 84: 4.96, 85: 4.97, 86: 4.98, 87: 4.99, 88: 5.0}\n",
            "Mapping para 'neighbourhood_group_cleansed': {}\n",
            "Mapping para 'minimum_nights': {0: 1, 1: 2, 2: 3, 3: 4, 4: 5, 5: 6, 6: 7, 7: 10, 8: 12, 9: 13, 10: 14, 11: 15, 12: 17, 13: 20, 14: 21, 15: 25, 16: 28, 17: 29, 18: 30, 19: 31, 20: 40, 21: 45, 22: 50, 23: 60, 24: 80, 25: 90, 26: 95, 27: 100, 28: 110, 29: 111, 30: 115, 31: 118, 32: 119, 33: 120, 34: 125, 35: 151, 36: 180, 37: 182, 38: 365}\n",
            "Mapping para 'maximum_nights': {0: 1, 1: 2, 2: 3, 3: 4, 4: 5, 5: 6, 6: 7, 7: 8, 8: 10, 9: 12, 10: 14, 11: 15, 12: 16, 13: 17, 14: 20, 15: 21, 16: 22, 17: 25, 18: 26, 19: 27, 20: 28, 21: 29, 22: 30, 23: 31, 24: 32, 25: 33, 26: 35, 27: 36, 28: 40, 29: 42, 30: 45, 31: 50, 32: 55, 33: 59, 34: 60, 35: 61, 36: 62, 37: 65, 38: 70, 39: 75, 40: 80, 41: 84, 42: 88, 43: 89, 44: 90, 45: 91, 46: 93, 47: 95, 48: 96, 49: 99, 50: 100, 51: 112, 52: 120, 53: 122, 54: 123, 55: 125, 56: 129, 57: 130, 58: 140, 59: 150, 60: 160, 61: 175, 62: 180, 63: 182, 64: 185, 65: 186, 66: 190, 67: 200, 68: 210, 69: 220, 70: 230, 71: 240, 72: 250, 73: 265, 74: 270, 75: 300, 76: 340, 77: 352, 78: 356, 79: 360, 80: 361, 81: 364, 82: 365, 83: 367, 84: 380, 85: 400, 86: 450, 87: 500, 88: 550, 89: 600, 90: 700, 91: 720, 92: 729, 93: 730, 94: 750, 95: 900, 96: 999, 97: 1000, 98: 1095, 99: 1123, 100: 1124, 101: 1125}\n",
            "Mapping para 'calculated_host_listings_count': {0: 1, 1: 2, 2: 3, 3: 4, 4: 5, 5: 6, 6: 7, 7: 8, 8: 9, 9: 10, 10: 11, 11: 12, 12: 13, 13: 14, 14: 17, 15: 19, 16: 20, 17: 21, 18: 22, 19: 24, 20: 26, 21: 36}\n",
            "Mapping para 'minimum_nights_avg_ntm': {0: 1.0, 1: 1.1, 2: 1.2, 3: 1.3, 4: 1.4, 5: 1.5, 6: 1.6, 7: 1.7, 8: 1.8, 9: 1.9, 10: 2.0, 11: 2.1, 12: 2.2, 13: 2.3, 14: 2.4, 15: 2.5, 16: 2.6, 17: 2.7, 18: 2.8, 19: 2.9, 20: 3.0, 21: 3.1, 22: 3.2, 23: 3.3, 24: 3.4, 25: 3.5, 26: 3.6, 27: 3.7, 28: 3.8, 29: 3.9, 30: 4.0, 31: 4.1, 32: 4.2, 33: 4.3, 34: 4.4, 35: 4.5, 36: 4.7, 37: 4.8, 38: 4.9, 39: 5.0, 40: 5.1, 41: 5.6, 42: 5.8, 43: 6.0, 44: 6.1, 45: 6.8, 46: 7.0, 47: 10.0, 48: 12.0, 49: 12.4, 50: 12.8, 51: 13.0, 52: 13.3, 53: 13.9, 54: 14.0, 55: 15.0, 56: 16.1, 57: 16.9, 58: 19.0, 59: 20.0, 60: 20.9, 61: 21.0, 62: 24.1, 63: 25.0, 64: 25.2, 65: 25.4, 66: 25.5, 67: 25.6, 68: 25.8, 69: 26.3, 70: 27.1, 71: 27.2, 72: 27.4, 73: 27.7, 74: 27.9, 75: 28.0, 76: 28.4, 77: 28.6, 78: 29.0, 79: 29.2, 80: 29.6, 81: 29.7, 82: 29.9, 83: 30.0, 84: 30.1, 85: 30.5, 86: 30.9, 87: 31.0, 88: 31.7, 89: 34.3, 90: 39.9, 91: 41.0, 92: 42.6, 93: 42.8, 94: 44.3, 95: 45.0, 96: 50.0, 97: 50.3, 98: 55.0, 99: 55.2, 100: 59.2, 101: 60.0, 102: 80.0, 103: 90.0, 104: 95.0, 105: 99.3, 106: 100.0, 107: 111.0, 108: 115.0, 109: 118.0, 110: 119.0, 111: 120.0, 112: 125.0, 113: 151.0, 114: 157.1, 115: 177.9, 116: 180.0, 117: 182.0, 118: 365.0}\n",
            "Mapping para 'maximum_nights_avg_ntm': {0: 1.0, 1: 2.0, 2: 3.0, 3: 4.0, 4: 5.0, 5: 6.0, 6: 7.0, 7: 8.0, 8: 10.0, 9: 12.0, 10: 14.0, 11: 15.0, 12: 16.0, 13: 20.0, 14: 21.0, 15: 22.0, 16: 25.0, 17: 26.0, 18: 27.0, 19: 28.0, 20: 29.0, 21: 30.0, 22: 31.0, 23: 32.0, 24: 33.0, 25: 35.0, 26: 35.8, 27: 36.0, 28: 36.2, 29: 40.0, 30: 42.0, 31: 45.0, 32: 50.0, 33: 59.0, 34: 60.0, 35: 61.0, 36: 62.0, 37: 64.1, 38: 65.0, 39: 68.6, 40: 70.0, 41: 73.2, 42: 73.8, 43: 74.0, 44: 74.6, 45: 75.0, 46: 76.8, 47: 77.1, 48: 79.0, 49: 80.0, 50: 84.0, 51: 86.6, 52: 88.0, 53: 90.0, 54: 93.0, 55: 95.0, 56: 96.0, 57: 99.0, 58: 99.2, 59: 100.0, 60: 107.0, 61: 109.1, 62: 112.0, 63: 113.8, 64: 114.1, 65: 116.8, 66: 120.0, 67: 121.3, 68: 122.0, 69: 123.0, 70: 125.0, 71: 125.9, 72: 129.0, 73: 130.0, 74: 140.0, 75: 150.0, 76: 155.8, 77: 175.0, 78: 177.1, 79: 180.0, 80: 182.0, 81: 184.4, 82: 185.0, 83: 200.0, 84: 210.0, 85: 220.0, 86: 237.7, 87: 238.7, 88: 240.0, 89: 250.0, 90: 270.0, 91: 285.1, 92: 300.0, 93: 327.5, 94: 340.0, 95: 356.0, 96: 360.0, 97: 361.0, 98: 363.2, 99: 364.0, 100: 365.0, 101: 367.0, 102: 371.3, 103: 380.0, 104: 400.0, 105: 404.2, 106: 456.0, 107: 500.0, 108: 535.4, 109: 536.3, 110: 551.7, 111: 562.2, 112: 571.5, 113: 582.3, 114: 600.0, 115: 700.0, 116: 720.0, 117: 730.0, 118: 750.0, 119: 759.5, 120: 826.1, 121: 874.3, 122: 891.1, 123: 900.0, 124: 999.0, 125: 1000.0, 126: 1057.5, 127: 1095.0, 128: 1123.0, 129: 1123.2, 130: 1124.0, 131: 1125.0, 132: 1776189939.9, 133: 1781207422.5, 134: 2147483647.0}\n",
            "Mapping para 'review_scores_checkin': {0: 1.0, 1: 2.0, 2: 3.0, 3: 3.2, 4: 3.33, 5: 3.4, 6: 3.5, 7: 3.6, 8: 3.67, 9: 3.75, 10: 3.78, 11: 3.85, 12: 4.0, 13: 4.06, 14: 4.1, 15: 4.14, 16: 4.17, 17: 4.2, 18: 4.25, 19: 4.27, 20: 4.29, 21: 4.3, 22: 4.33, 23: 4.38, 24: 4.39, 25: 4.4, 26: 4.42, 27: 4.43, 28: 4.44, 29: 4.45, 30: 4.46, 31: 4.5, 32: 4.51, 33: 4.52, 34: 4.53, 35: 4.54, 36: 4.55, 37: 4.56, 38: 4.57, 39: 4.58, 40: 4.6, 41: 4.61, 42: 4.62, 43: 4.63, 44: 4.64, 45: 4.65, 46: 4.66, 47: 4.67, 48: 4.68, 49: 4.69, 50: 4.7, 51: 4.71, 52: 4.72, 53: 4.73, 54: 4.74, 55: 4.75, 56: 4.76, 57: 4.77, 58: 4.78, 59: 4.79, 60: 4.8, 61: 4.81, 62: 4.82, 63: 4.83, 64: 4.84, 65: 4.85, 66: 4.86, 67: 4.87, 68: 4.88, 69: 4.89, 70: 4.9, 71: 4.91, 72: 4.92, 73: 4.93, 74: 4.94, 75: 4.95, 76: 4.96, 77: 4.97, 78: 4.98, 79: 4.99, 80: 5.0}\n"
          ]
        }
      ]
    },
    {
      "cell_type": "markdown",
      "source": [
        "# **Resultados**"
      ],
      "metadata": {
        "id": "EYtjuI7y0Z0I"
      }
    },
    {
      "cell_type": "code",
      "source": [
        "from re import X\n",
        "coeficientesTbl = pd.DataFrame()\n",
        "\n",
        "for i in range(10):  # Iterar del 0 al 9\n",
        "  y = Variables_dependientes[i]  # Variable dependiente\n",
        "  X_cols = Variables_independientes[i]  # Variables independientes\n",
        "  print(y)\n",
        "  results = regresion_logistica(df[X_cols], df[y], tbl_info=True)  # Llamar a la función\n",
        "\n",
        "  # Concatenar los resultados al DataFrame\n",
        "  coeficientesTbl = pd.concat([coeficientesTbl, results], ignore_index=True)\n",
        "\n",
        "# Guardar en CSV\n",
        "coeficientesTbl.to_csv('coeficientes_' + pais + '.csv', index=False)"
      ],
      "metadata": {
        "colab": {
          "base_uri": "https://localhost:8080/"
        },
        "id": "InPV1B2Z0bup",
        "outputId": "40b3c213-6e48-4f10-9079-9a078ab976e7"
      },
      "execution_count": 279,
      "outputs": [
        {
          "output_type": "stream",
          "name": "stdout",
          "text": [
            "host_is_superhost\n",
            "host_identity_verified\n",
            "has_availability\n",
            "instant_bookable\n",
            "bathrooms\n"
          ]
        },
        {
          "output_type": "stream",
          "name": "stderr",
          "text": [
            "/usr/local/lib/python3.11/dist-packages/sklearn/metrics/_classification.py:1565: UndefinedMetricWarning: Precision is ill-defined and being set to 0.0 due to no predicted samples. Use `zero_division` parameter to control this behavior.\n",
            "  _warn_prf(average, modifier, f\"{metric.capitalize()} is\", len(result))\n",
            "/usr/local/lib/python3.11/dist-packages/sklearn/metrics/_classification.py:1565: UndefinedMetricWarning: Precision is ill-defined and being set to 0.0 due to no predicted samples. Use `zero_division` parameter to control this behavior.\n",
            "  _warn_prf(average, modifier, f\"{metric.capitalize()} is\", len(result))\n"
          ]
        },
        {
          "output_type": "stream",
          "name": "stdout",
          "text": [
            "bedrooms\n",
            "host_response_time\n",
            "room_type\n",
            "accommodates\n",
            "price\n"
          ]
        },
        {
          "output_type": "stream",
          "name": "stderr",
          "text": [
            "/usr/local/lib/python3.11/dist-packages/sklearn/metrics/_classification.py:1565: UndefinedMetricWarning: Precision is ill-defined and being set to 0.0 due to no predicted samples. Use `zero_division` parameter to control this behavior.\n",
            "  _warn_prf(average, modifier, f\"{metric.capitalize()} is\", len(result))\n",
            "/usr/local/lib/python3.11/dist-packages/sklearn/metrics/_classification.py:1565: UndefinedMetricWarning: Precision is ill-defined and being set to 0.0 due to no predicted samples. Use `zero_division` parameter to control this behavior.\n",
            "  _warn_prf(average, modifier, f\"{metric.capitalize()} is\", len(result))\n"
          ]
        }
      ]
    },
    {
      "cell_type": "code",
      "source": [],
      "metadata": {
        "id": "I_JUCBvJ93O5"
      },
      "execution_count": 279,
      "outputs": []
    }
  ]
}